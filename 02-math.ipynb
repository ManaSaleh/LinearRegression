{
 "cells": [
  {
   "cell_type": "markdown",
   "id": "d8cc0808-2da0-47b1-8413-afdebbf655b8",
   "metadata": {},
   "source": [
    "# **Mathematical Foundations of Linear Regression**\n",
    "\n",
    "---"
   ]
  },
  {
   "cell_type": "markdown",
   "id": "380d3455-f7eb-41db-9ef5-ce08f1085ee4",
   "metadata": {},
   "source": [
    "### **Understanding the Linear Regression Model**\n",
    "\n",
    "Linear Regression predicts a target variable $((y))$ by learning a linear function of the input features $((x_1, x_2, \\ldots, x_n))$. It can be expressed as:\n",
    "\n",
    "$\n",
    "y = \\theta_0 + \\theta_1 x_1 + \\theta_2 x_2 + \\ldots + \\theta_n x_n\n",
    "$\n",
    "\n",
    "This is a **parametric model**, meaning it defines a functional form with parameters $((\\theta_0, \\theta_1, \\ldots, \\theta_n))$ that need to be learned from the training data.\n",
    "\n",
    "#### **Vectorized Form**\n",
    "Using vectors, the model is written as:\n",
    "\n",
    "$\n",
    "y = h_\\theta(x) = \\theta \\cdot x\n",
    "$\n",
    "\n",
    "Where:\n",
    "- $(\\theta = [\\theta_0, \\theta_1, \\ldots, \\theta_n])$: Parameter vector, including the bias term.\n",
    "- $(x = [x_0, x_1, \\ldots, x_n])$: Feature vector, where $(x_0 = 1)$.\n",
    "\n",
    "The term $(h_\\theta(x))$ is the **hypothesis function**.\n",
    "\n",
    "---"
   ]
  },
  {
   "cell_type": "markdown",
   "id": "48b667d3-8666-459c-b09d-5646be88342c",
   "metadata": {},
   "source": [
    "### **Model Training: Finding the Best Parameters**\n",
    "\n",
    "Training a Linear Regression model involves finding the parameter vector $(\\theta)$ that minimizes the difference between the predicted values $((\\hat{y}))$ and the actual values $((y))$ in the training set. This difference is quantified using a cost function.\n",
    "\n",
    "#### **Cost Function: Mean Squared Error (MSE)**\n",
    "The **Mean Squared Error (MSE)** is a commonly used cost function for regression tasks:\n",
    "\n",
    "$\n",
    "MSE(\\theta) = \\frac{1}{m} \\sum_{i=1}^{m} \\left( h_\\theta(x^{(i)}) - y^{(i)} \\right)^2\n",
    "$\n",
    "\n",
    "Where:\n",
    "- $(m)$: Number of training instances.\n",
    "- $(h_\\theta(x^{(i)}))$: Predicted value for the $(i)$-th instance.\n",
    "- $(y^{(i)})$: Actual target value for the $(i)$-th instance.\n",
    "\n",
    "The goal is to minimize $(MSE(\\theta))$, finding the parameter vector $(\\theta)$ that results in the best fit for the training data.\n",
    "\n",
    "---"
   ]
  },
  {
   "cell_type": "markdown",
   "id": "2916e80a-2b28-4d73-8537-e9652f8d6bbc",
   "metadata": {},
   "source": [
    "### **The Normal Equation**\n",
    "The **Normal Equation** provides a closed-form solution for minimizing the MSE. It directly computes the optimal parameters:\n",
    "\n",
    "$\n",
    "\\theta = \\left( X^T X \\right)^{-1} X^T y\n",
    "$\n",
    "\n",
    "Where:\n",
    "- $(X)$: Feature matrix $((m \\times n+1)$, including a column of ones for the bias term).\n",
    "- $(y)$: Target vector $((m \\times 1))$."
   ]
  },
  {
   "cell_type": "markdown",
   "id": "ed77a82f-bdd4-4a8e-b8b7-a4157339eee5",
   "metadata": {},
   "source": [
    "#### **Example Implementation**"
   ]
  },
  {
   "cell_type": "code",
   "execution_count": 1,
   "id": "227100e5-3e04-45f3-9a8a-d1bdc5479be9",
   "metadata": {},
   "outputs": [],
   "source": [
    "import numpy as np\n",
    "\n",
    "# Generate synthetic data\n",
    "X = 2 * np.random.rand(100, 1)\n",
    "y = 4 + 3 * X + np.random.randn(100, 1)"
   ]
  },
  {
   "cell_type": "code",
   "execution_count": 2,
   "id": "0e538cd5-f7d7-4920-945e-a93580fbab00",
   "metadata": {},
   "outputs": [
    {
     "data": {
      "image/png": "[encoded data removed]",
      "text/plain": [
       "<Figure size 640x480 with 1 Axes>"
      ]
     },
     "metadata": {},
     "output_type": "display_data"
    }
   ],
   "source": [
    "import matplotlib.pyplot as plt \n",
    "\n",
    "plt.scatter(X , y)\n",
    "plt.show()"
   ]
  },
  {
   "cell_type": "code",
   "execution_count": 3,
   "id": "2110e6da-e593-4acc-b0e7-9465c0f101b3",
   "metadata": {},
   "outputs": [],
   "source": [
    "# Add bias term (x0 = 1) to feature matrix\n",
    "X_b = np.c_[np.ones((100, 1)), X]"
   ]
  },
  {
   "cell_type": "code",
   "execution_count": 4,
   "id": "81373059-c5ef-4eca-91c5-6ec95d45a059",
   "metadata": {},
   "outputs": [],
   "source": [
    "# Compute theta using the Normal Equation\n",
    "theta_best = np.linalg.inv(X_b.T.dot(X_b)).dot(X_b.T).dot(y)"
   ]
  },
  {
   "cell_type": "code",
   "execution_count": 5,
   "id": "e593f48e-91fa-42c0-aa60-7d20ed71d3b4",
   "metadata": {},
   "outputs": [
    {
     "name": "stdout",
     "output_type": "stream",
     "text": [
      "Optimal parameters: [[3.80070565]\n",
      " [3.12852119]]\n"
     ]
    }
   ],
   "source": [
    "print(\"Optimal parameters:\", theta_best)"
   ]
  },
  {
   "cell_type": "markdown",
   "id": "de38bc0e-47c8-49e1-962d-864f0c8bf5c8",
   "metadata": {},
   "source": [
    "#### **Making Predictions**"
   ]
  },
  {
   "cell_type": "code",
   "execution_count": 6,
   "id": "e4553b72-48e0-4ff6-a695-ebac985bc942",
   "metadata": {},
   "outputs": [],
   "source": [
    "# New data points\n",
    "X_new = np.array([[0], [2]])\n",
    "X_new_b = np.c_[np.ones((2, 1)), X_new]"
   ]
  },
  {
   "cell_type": "code",
   "execution_count": 7,
   "id": "809ffdb8-6aca-48d6-8ab7-c643d645184d",
   "metadata": {},
   "outputs": [],
   "source": [
    "# Make predictions\n",
    "y_pred = X_new_b.dot(theta_best)"
   ]
  },
  {
   "cell_type": "code",
   "execution_count": 8,
   "id": "3c6ae12b-cd78-4f43-b099-90583e2ae917",
   "metadata": {},
   "outputs": [
    {
     "name": "stdout",
     "output_type": "stream",
     "text": [
      "Predictions: [[ 3.80070565]\n",
      " [10.05774803]]\n"
     ]
    }
   ],
   "source": [
    "print(\"Predictions:\", y_pred)"
   ]
  },
  {
   "cell_type": "code",
   "execution_count": 9,
   "id": "60126795-adb9-49a8-9a1e-416b7b92b481",
   "metadata": {},
   "outputs": [
    {
     "data": {
      "image/png": "[encoded data removed]",
      "text/plain": [
       "<Figure size 640x480 with 1 Axes>"
      ]
     },
     "metadata": {},
     "output_type": "display_data"
    }
   ],
   "source": [
    "plt.plot(X_new, y_pred, \"r-\")\n",
    "plt.plot(X, y, \"b.\")\n",
    "plt.show()"
   ]
  },
  {
   "cell_type": "markdown",
   "id": "affbb329-2d15-4b21-9cc6-428048e65703",
   "metadata": {},
   "source": [
    "---"
   ]
  },
  {
   "cell_type": "markdown",
   "id": "0be935c5-a0e7-43c3-bc13-3ca8ff59540a",
   "metadata": {},
   "source": [
    "### **Gradient Descent**\n",
    "\n",
    "The **Normal Equation** is computationally efficient for datasets with a small number of features. However, for larger datasets or high-dimensional feature spaces, **Gradient Descent** is a more scalable approach.\n",
    "\n",
    "#### **Key Idea**\n",
    "Gradient Descent iteratively adjusts the parameter vector $(\\theta)$ to minimize the cost function. At each step, the parameters are updated in the direction of the negative gradient of the cost function:\n",
    "\n",
    "$\n",
    "\\theta_j := \\theta_j - \\alpha \\frac{\\partial}{\\partial \\theta_j} MSE(\\theta)\n",
    "$\n",
    "\n",
    "Where:\n",
    "- $(\\alpha)$: Learning rate (controls the step size).\n",
    "- $(\\frac{\\partial}{\\partial \\theta_j} MSE(\\theta))$: Gradient of the cost function with respect to $(\\theta_j)$.\n",
    "\n",
    "#### **Gradient Vector**\n",
    "The gradient vector is computed as:\n",
    "\n",
    "$\n",
    "\\nabla_\\theta MSE(\\theta) = \\frac{2}{m} X^T (X\\theta - y)\n",
    "$\n",
    "\n",
    "---"
   ]
  },
  {
   "cell_type": "markdown",
   "id": "152a5b7b-a6d5-4a28-b609-2aca88faf3b9",
   "metadata": {},
   "source": [
    "#### **Gradient Descent Implementation**"
   ]
  },
  {
   "cell_type": "code",
   "execution_count": 10,
   "id": "0f32a146-e03e-4444-9820-6ffad01357ff",
   "metadata": {},
   "outputs": [],
   "source": [
    "# Gradient Descent implementation\n",
    "learning_rate = 0.01\n",
    "n_iterations = 1000\n",
    "m = len(X_b)"
   ]
  },
  {
   "cell_type": "code",
   "execution_count": 11,
   "id": "934f971d-fdd3-4a83-8683-27dd553621ed",
   "metadata": {},
   "outputs": [],
   "source": [
    "# Initialize parameters\n",
    "theta = np.random.randn(2, 1)"
   ]
  },
  {
   "cell_type": "code",
   "execution_count": 12,
   "id": "ee2d8496-be3b-438b-95af-81becb825798",
   "metadata": {},
   "outputs": [],
   "source": [
    "# Compute cost function\n",
    "def compute_cost(X, y, theta):\n",
    "    predictions = X.dot(theta)\n",
    "    cost = (1 / m) * np.sum((predictions - y) ** 2)\n",
    "    return cost"
   ]
  },
  {
   "cell_type": "code",
   "execution_count": 13,
   "id": "3251e320-002b-4a0e-9556-90085cb0b9e4",
   "metadata": {},
   "outputs": [],
   "source": [
    "cost_history = []\n",
    "\n",
    "# Gradient Descent\n",
    "for iteration in range(n_iterations):\n",
    "    gradients = (2 / m) * X_b.T.dot(X_b.dot(theta) - y)\n",
    "    theta -= learning_rate * gradients\n",
    "    cost = compute_cost(X_b, y, theta)\n",
    "    cost_history.append(cost)"
   ]
  },
  {
   "cell_type": "code",
   "execution_count": 14,
   "id": "5fce2c1e-0273-4be0-beec-daa77d43eca7",
   "metadata": {},
   "outputs": [
    {
     "name": "stdout",
     "output_type": "stream",
     "text": [
      "Optimal parameters (Gradient Descent): [[3.78140605]\n",
      " [3.14514892]]\n"
     ]
    }
   ],
   "source": [
    "print(\"Optimal parameters (Gradient Descent):\", theta)"
   ]
  },
  {
   "cell_type": "code",
   "execution_count": 15,
   "id": "2ec0f875-f902-4ea3-892e-62993213a8df",
   "metadata": {},
   "outputs": [
    {
     "data": {
      "image/png": "[encoded data removed]",
      "text/plain": [
       "<Figure size 640x480 with 1 Axes>"
      ]
     },
     "metadata": {},
     "output_type": "display_data"
    }
   ],
   "source": [
    "plt.plot(range(n_iterations), cost_history)\n",
    "plt.show()"
   ]
  },
  {
   "cell_type": "markdown",
   "id": "84450464-2719-459b-9a08-fd6565f0f249",
   "metadata": {},
   "source": [
    "---"
   ]
  },
  {
   "cell_type": "markdown",
   "id": "37773283-20b9-4884-aa45-77f807226620",
   "metadata": {},
   "source": [
    "### **Variants of Gradient Descent**\n",
    "\n",
    "1. **Batch Gradient Descent**:\n",
    "   - Uses the entire dataset to compute gradients.\n",
    "   - Slower for large datasets but guarantees convergence.\n",
    "\n",
    "2. **Stochastic Gradient Descent (SGD)**:\n",
    "   - Uses one training instance at a time.\n",
    "   - Faster but introduces noise in updates.\n",
    "\n",
    "3. **Mini-Batch Gradient Descent**:\n",
    "   - Uses small batches of data for updates.\n",
    "   - Balances efficiency and stability.\n",
    "\n",
    "---"
   ]
  },
  {
   "cell_type": "markdown",
   "id": "afdd64a0-98e3-452c-8751-9055b95ca95a",
   "metadata": {},
   "source": [
    "#### **Stochastic Gradient Descent Example**"
   ]
  },
  {
   "cell_type": "code",
   "execution_count": 16,
   "id": "1e7c3d49-d515-44e4-adba-13d8b6ecca3f",
   "metadata": {},
   "outputs": [],
   "source": [
    "# Stochastic Gradient Descent\n",
    "n_epochs = 50\n",
    "t0, t1 = 5, 50  # Learning schedule parameters"
   ]
  },
  {
   "cell_type": "code",
   "execution_count": 17,
   "id": "973e4668-4dfc-4d28-8ce0-e15c67a6f61c",
   "metadata": {},
   "outputs": [],
   "source": [
    "# Learning schedule\n",
    "def learning_schedule(t):\n",
    "    return t0 / (t + t1)"
   ]
  },
  {
   "cell_type": "code",
   "execution_count": 18,
   "id": "82f1e0f3-6bf7-41c5-8ff1-3d3e21863dbb",
   "metadata": {},
   "outputs": [],
   "source": [
    "theta = np.random.randn(2, 1)"
   ]
  },
  {
   "cell_type": "code",
   "execution_count": 19,
   "id": "2fabef05-96bd-454c-a56a-df7d4a1ea03b",
   "metadata": {},
   "outputs": [],
   "source": [
    "# Compute cost function\n",
    "def compute_cost(X, y, theta):\n",
    "    predictions = X.dot(theta)\n",
    "    cost = (1 / m) * np.sum((predictions - y) ** 2)\n",
    "    return cost"
   ]
  },
  {
   "cell_type": "code",
   "execution_count": 20,
   "id": "297559df-0bc3-4f6d-a46e-1ea82251d6d2",
   "metadata": {},
   "outputs": [],
   "source": [
    "cost_history = []\n",
    "\n",
    "# Stochastic Gradient Descent\n",
    "for epoch in range(n_epochs):\n",
    "    for i in range(m):\n",
    "        random_index = np.random.randint(m)\n",
    "        xi = X_b[random_index:random_index + 1]\n",
    "        yi = y[random_index:random_index + 1]\n",
    "        gradients = 2 * xi.T.dot(xi.dot(theta) - yi)\n",
    "        eta = learning_schedule(epoch * m + i)\n",
    "        theta -= eta * gradients\n",
    "    cost = compute_cost(X_b, y, theta)\n",
    "    cost_history.append(cost)"
   ]
  },
  {
   "cell_type": "code",
   "execution_count": 21,
   "id": "f2da0105-c8a7-4394-a1bc-c464788c34bb",
   "metadata": {},
   "outputs": [
    {
     "name": "stdout",
     "output_type": "stream",
     "text": [
      "Optimal parameters (SGD): [[3.7978802]\n",
      " [3.1491989]]\n"
     ]
    }
   ],
   "source": [
    "print(\"Optimal parameters (SGD):\", theta)"
   ]
  },
  {
   "cell_type": "code",
   "execution_count": 22,
   "id": "ff09df7a-e457-4aec-8759-eb54c4be5a02",
   "metadata": {},
   "outputs": [
    {
     "data": {
      "image/png": "[encoded data removed]",
      "text/plain": [
       "<Figure size 640x480 with 1 Axes>"
      ]
     },
     "metadata": {},
     "output_type": "display_data"
    }
   ],
   "source": [
    "plt.plot(range(n_epochs), cost_history)\n",
    "plt.show()"
   ]
  },
  {
   "cell_type": "markdown",
   "id": "c1abe83a-4e5e-4bf3-a657-473eeca41338",
   "metadata": {},
   "source": [
    "---"
   ]
  },
  {
   "cell_type": "markdown",
   "id": "28f7ecb3-130c-46ce-b41e-f03030967e2b",
   "metadata": {},
   "source": [
    "### **Feature Scaling for Gradient Descent**\n",
    "\n",
    "Gradient Descent performs best when features are scaled to similar ranges. Use **StandardScaler** for standardization:"
   ]
  },
  {
   "cell_type": "code",
   "execution_count": 23,
   "id": "1a037d1b-c1b7-4758-9c56-c818aee1b067",
   "metadata": {},
   "outputs": [],
   "source": [
    "from sklearn.preprocessing import StandardScaler\n",
    "\n",
    "scaler = StandardScaler()\n",
    "X_scaled = scaler.fit_transform(X)"
   ]
  },
  {
   "cell_type": "markdown",
   "id": "bd7d21b1-0e76-4cb9-805e-1fdc131f1b3a",
   "metadata": {},
   "source": [
    "---"
   ]
  },
  {
   "cell_type": "markdown",
   "id": "db3d145f-1e16-4425-a657-4ba4ab9926cf",
   "metadata": {},
   "source": [
    "### **Computational Complexity**\n",
    "1. **Normal Equation**:\n",
    "   - Complexity: $(O(n^3))$, where $(n)$ is the number of features.\n",
    "   - Efficient for small feature spaces but impractical for high-dimensional data.\n",
    "\n",
    "2. **Gradient Descent**:\n",
    "   - Complexity: $(O(n \\cdot m \\cdot i))$, where $(i)$ is the number of iterations.\n",
    "   - Scales better with large datasets.\n",
    "\n",
    "---"
   ]
  },
  {
   "cell_type": "markdown",
   "id": "db94c158-813f-46b0-9973-22672c3322f1",
   "metadata": {},
   "source": [
    "### **Key Takeaways**\n",
    "1. The Normal Equation provides a closed-form solution for small datasets.\n",
    "2. Gradient Descent is scalable and suitable for large datasets.\n",
    "3. Feature scaling is critical for the efficient convergence of Gradient Descent.\n",
    "\n",
    "---\n",
    "---"
   ]
  },
  {
   "cell_type": "markdown",
   "id": "9216cd3f-17dc-4b7c-97f0-cdc25ad67a2c",
   "metadata": {},
   "source": [
    "# Linear Regression Optimization Techniques\n",
    "\n",
    "## 1. The Normal Equation\n",
    "- **Definition**: A closed-form solution to minimize the cost function in linear regression by directly computing the optimal parameters.\n",
    "- **Formula**:  \n",
    "  $\n",
    "  \\theta = (X^T X)^{-1} X^T y\n",
    "  $\n",
    "- **Key Points**:\n",
    "  - Does not require iterations.\n",
    "  - Computationally expensive for large datasets due to matrix inversion.\n",
    "  - Suitable for small datasets.\n",
    "\n",
    "- **Pros**:\n",
    "  - Exact solution.\n",
    "  - No need for a learning rate or iterations.\n",
    "\n",
    "- **Cons**:\n",
    "  - Computational inefficiency with high-dimensional data.\n",
    "  - Inverse computation may be unstable if $(X^T X)$ is non-invertible.\n",
    "\n",
    "## 2. Gradient Descent\n",
    "- **Definition**: An iterative optimization algorithm that minimizes the cost function by updating parameters in the opposite direction of the gradient.\n",
    "- **Update Rule**:  \n",
    "  $\n",
    "  \\theta = \\theta - \\alpha \\cdot \\text{gradients}\n",
    "  $\n",
    "  where $(\\alpha)$ is the learning rate.\n",
    "\n",
    "- **Key Points**:\n",
    "  - Scales well with large datasets.\n",
    "  - Requires tuning of the learning rate and careful selection of stopping criteria.\n",
    "\n",
    "- **Pros**:\n",
    "  - Efficient for large datasets.\n",
    "  - Straightforward implementation.\n",
    "\n",
    "- **Cons**:\n",
    "  - Requires tuning of hyperparameters (e.g., learning rate).\n",
    "  - Can converge to a local minimum for non-convex cost functions.\n",
    "\n",
    "## 3. Stochastic Gradient Descent (SGD)\n",
    "- **Definition**: A variation of Gradient Descent where the gradient is computed using a single training example (or a small batch) at each step.\n",
    "- **Update Rule**:  \n",
    "  $\n",
    "  \\theta = \\theta - \\eta \\cdot \\text{gradients}\n",
    "  $\n",
    "  where $(\\eta)$ is the learning rate.\n",
    "\n",
    "- **Key Points**:\n",
    "  - Introduces randomness by updating parameters using one example at a time.\n",
    "  - Often faster convergence but noisier updates.\n",
    "\n",
    "- **Pros**:\n",
    "  - Faster updates for large datasets.\n",
    "  - Helps escape local minima due to random sampling.\n",
    "\n",
    "- **Cons**:\n",
    "  - Noisy updates can lead to slow convergence.\n",
    "  - Requires careful tuning of the learning rate.\n",
    "\n",
    "---"
   ]
  },
  {
   "cell_type": "markdown",
   "id": "63eadc12-07bb-4165-9947-bc95617d87ed",
   "metadata": {},
   "source": [
    "1. **[The Normal Equation - Khan Academy](https://www.khanacademy.org/math/statistics-probability)**  \n",
    "   Explains linear regression and the Normal Equation in simple terms.\n",
    "\n",
    "2. **[Stochastic Gradient Descent - Towards Data Science](https://towardsdatascience.com/stochastic-gradient-descent-clearly-explained-53d239905d31)**  \n",
    "   A detailed explanation of SGD with examples and visuals.\n",
    "\n",
    "3. **[Gradient Descent - GeeksforGeeks](https://www.geeksforgeeks.org/gradient-descent-in-linear-regression/)**  \n",
    "   Explains Gradient Descent with examples and Python code."
   ]
  }
 ],
 "metadata": {
  "kernelspec": {
   "display_name": "allam",
   "language": "python",
   "name": "python3"
  },
  "language_info": {
   "codemirror_mode": {
    "name": "ipython",
    "version": 3
   },
   "file_extension": ".py",
   "mimetype": "text/x-python",
   "name": "python",
   "nbconvert_exporter": "python",
   "pygments_lexer": "ipython3",
   "version": "3.12.5"
  }
 },
 "nbformat": 4,
 "nbformat_minor": 5
}
